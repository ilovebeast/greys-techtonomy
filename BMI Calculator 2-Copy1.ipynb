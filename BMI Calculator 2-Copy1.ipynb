{
 "cells": [
  {
   "cell_type": "code",
   "execution_count": 13,
   "id": "b11154ae",
   "metadata": {},
   "outputs": [
    {
     "name": "stdout",
     "output_type": "stream",
     "text": [
      "Enter your name here: Mary\n",
      "Enter your weight in pounds: 160\n",
      "Enter your height in inches: 65\n",
      "26.622485207100592\n",
      "Mary, you are Overweight.\n"
     ]
    }
   ],
   "source": [
    "name = input(\"Enter your name here: \")\n",
    "weight = int(input(\"Enter your weight in pounds: \"))\n",
    "\n",
    "height = int(input(\"Enter your height in inches: \"))\n",
    "\n",
    "BMI = (weight * 703)/(height * height)\n",
    "\n",
    "print(BMI)\n",
    "\n",
    "if BMI>0:\n",
    "    if (BMI<18.5):\n",
    "        print(name +\", you are Underweight.\")\n",
    "    elif (BMI<=24.9):\n",
    "        print(name +\", you are Normal Weight.\")\n",
    "    elif (BMI<=29.9):\n",
    "        print(name+ \", you are Overweight.\")\n",
    "    elif (BMI<=34.9):\n",
    "        print(name +\", you are Obese.\")\n",
    "    elif (BMI<=39.9):\n",
    "        print(name +\", you are Severely Obese.\")\n",
    "    elif (BMI<80):\n",
    "        print(name +\", you are Morbidly Obese.\")\n",
    "    else:\n",
    "        print(\"Enter valid inputs.\")"
   ]
  },
  {
   "cell_type": "code",
   "execution_count": 5,
   "id": "6d8a7ddd",
   "metadata": {},
   "outputs": [
    {
     "name": "stdout",
     "output_type": "stream",
     "text": [
      "34.95472222222222\n"
     ]
    }
   ],
   "source": [
    "print(BMI)"
   ]
  },
  {
   "cell_type": "code",
   "execution_count": 12,
   "id": "2b86ac68",
   "metadata": {},
   "outputs": [
    {
     "name": "stdout",
     "output_type": "stream",
     "text": [
      "Mary, you are Severely Obese.\n"
     ]
    }
   ],
   "source": [
    "if BMI>0:\n",
    "    if (BMI<18.5):\n",
    "        print(name +\", you are Underweight.\")\n",
    "    elif (BMI<=24.9):\n",
    "        print(name +\", you are Normal Weight.\")\n",
    "    elif (BMI<=29.9):\n",
    "        print(name+ \", you are Overweight.\")\n",
    "    elif (BMI<=34.9):\n",
    "        print(name +\", you are Obese.\")\n",
    "    elif (BMI<=39.9):\n",
    "        print(name +\", you are Severely Obese.\")\n",
    "    elif (BMI<80):\n",
    "        print(name +\", you are Morbidly Obese.\")\n",
    "    else:\n",
    "        print(\"Enter valid inputs.\")"
   ]
  },
  {
   "cell_type": "code",
   "execution_count": null,
   "id": "19d571bb",
   "metadata": {},
   "outputs": [],
   "source": []
  },
  {
   "cell_type": "code",
   "execution_count": null,
   "id": "05cc913d",
   "metadata": {},
   "outputs": [],
   "source": [
    "#BMI = (weight in pounds x 703)/(height in inches x height in inches)"
   ]
  },
  {
   "cell_type": "code",
   "execution_count": null,
   "id": "cd0c457a",
   "metadata": {},
   "outputs": [],
   "source": [
    "Under 18.5\tUnderweight\tMinimal\n",
    "18.5 - 24.9\tNormal Weight\tMinimal\n",
    "25 - 29.9\tOverweight\tIncreased\n",
    "30 - 34.9\tObese\tHigh\n",
    "35 - 39.9\tSeverely Obese\tVery High\n",
    "40 and over\tMorbidly Obese\tExtremely High"
   ]
  },
  {
   "cell_type": "code",
   "execution_count": null,
   "id": "41ca6dc5",
   "metadata": {},
   "outputs": [],
   "source": []
  },
  {
   "cell_type": "code",
   "execution_count": null,
   "id": "d1188614",
   "metadata": {},
   "outputs": [],
   "source": []
  },
  {
   "cell_type": "code",
   "execution_count": null,
   "id": "f41d6b2e",
   "metadata": {},
   "outputs": [],
   "source": []
  },
  {
   "cell_type": "code",
   "execution_count": null,
   "id": "e6075353",
   "metadata": {},
   "outputs": [],
   "source": []
  },
  {
   "cell_type": "code",
   "execution_count": null,
   "id": "93f84f32",
   "metadata": {},
   "outputs": [],
   "source": []
  }
 ],
 "metadata": {
  "kernelspec": {
   "display_name": "Python 3 (ipykernel)",
   "language": "python",
   "name": "python3"
  },
  "language_info": {
   "codemirror_mode": {
    "name": "ipython",
    "version": 3
   },
   "file_extension": ".py",
   "mimetype": "text/x-python",
   "name": "python",
   "nbconvert_exporter": "python",
   "pygments_lexer": "ipython3",
   "version": "3.11.4"
  }
 },
 "nbformat": 4,
 "nbformat_minor": 5
}
